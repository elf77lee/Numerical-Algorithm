{
 "cells": [
  {
   "cell_type": "markdown",
   "metadata": {},
   "source": [
    "Before you turn this problem in, make sure everything runs as expected. First, **restart the kernel** (in the menubar, select Kernel$\\rightarrow$Restart) and then **run all cells** (in the menubar, select Cell$\\rightarrow$Run All).\n",
    "\n",
    "Make sure you fill in any place that says `YOUR CODE HERE` or \"YOUR ANSWER HERE\", as well as your name and collaborators below:"
   ]
  },
  {
   "cell_type": "markdown",
   "metadata": {},
   "source": [
    "---"
   ]
  },
  {
   "cell_type": "markdown",
   "metadata": {
    "deletable": false,
    "editable": false,
    "nbgrader": {
     "cell_type": "markdown",
     "checksum": "4df557ad28174a618af9f726e4540b83",
     "grade": false,
     "grade_id": "cell-08c497a7a86f3461",
     "locked": true,
     "schema_version": 3,
     "solution": false,
     "task": false
    }
   },
   "source": [
    "Please **submit this Jupyter notebook through Canvas** no later than **Monday November 23 12:59**, before the start of the lecture.\n",
    "\n",
    "Homework is in **groups of two**, and you are expected to hand in original work. Work that is copied from another group will not be accepted."
   ]
  },
  {
   "cell_type": "markdown",
   "metadata": {
    "deletable": false,
    "editable": false,
    "nbgrader": {
     "cell_type": "markdown",
     "checksum": "18cb508a2f7cf4b39f1f84cc77038b54",
     "grade": false,
     "grade_id": "cell-98acc141543bb30d",
     "locked": true,
     "schema_version": 3,
     "solution": false,
     "task": false
    }
   },
   "source": [
    "# Exercise 0\n",
    "Write down the names + student ID of the people in your group."
   ]
  },
  {
   "cell_type": "markdown",
   "metadata": {
    "deletable": false,
    "nbgrader": {
     "cell_type": "markdown",
     "checksum": "0ddb7fc269415d6fba569c0b98128fa6",
     "grade": true,
     "grade_id": "cell-ccf233138bb8e912",
     "locked": false,
     "points": 0,
     "schema_version": 3,
     "solution": true,
     "task": false
    }
   },
   "source": [
    "MeifangLi_13043390\n",
    "YuhaoQian_13011456"
   ]
  },
  {
   "cell_type": "code",
   "execution_count": 1,
   "metadata": {
    "deletable": false,
    "editable": false,
    "nbgrader": {
     "cell_type": "code",
     "checksum": "6bac44a5cf68c5f713be98c815a00afd",
     "grade": false,
     "grade_id": "cell-c8276f063a1af795",
     "locked": true,
     "schema_version": 3,
     "solution": false,
     "task": false
    }
   },
   "outputs": [],
   "source": [
    "# Evaluate this cell to import necessary packages\n",
    "import numpy as np\n",
    "import matplotlib.pyplot as plt\n",
    "import math"
   ]
  },
  {
   "cell_type": "markdown",
   "metadata": {
    "deletable": false,
    "editable": false,
    "nbgrader": {
     "cell_type": "markdown",
     "checksum": "11264bab706af3653a6485666327d7dc",
     "grade": false,
     "grade_id": "cell-6eba62a7cb421695",
     "locked": true,
     "schema_version": 3,
     "solution": false,
     "task": false
    }
   },
   "source": [
    "# Sparse matrices\n",
    "A _sparse matrix_ or _sparse array_ is a matrix in which most of the elements are zero. There is no strict definition how many elements need to be zero for a matrix to be considered sparse but a common criterion is that the number of non-zero elements is roughly the number of rows or columns. By contrast, if most of the elements are nonzero, then the matrix is considered _dense_. \n",
    "\n",
    "In the context of software for scientific computing, a sparse matrix typically refers to a storage format, in which elements which are known to be zero are not stored. In Python, the library `scipy.sparse` defines several sparse matrix classes, such as `scipy.sparse.coo_matrix`. To construct such an object, one passes for each nonzero element the value, and the row and column coordinates. In some cases, one can also just pass the nonzero (off-)diagonals, see `scipy.sparse.diags`.\n",
    "\n",
    "Functions for dense matrices do not always work with sparse matrices. For example for the product of a sparse matrix with a (dense) vector, there is the member function `scipy.sparse.coo_matrix.dot`, and for solving linear equations involving a sparse matrix, there is the function `scipy.sparse.linalg.spsolve`."
   ]
  },
  {
   "cell_type": "code",
   "execution_count": 2,
   "metadata": {},
   "outputs": [
    {
     "name": "stdout",
     "output_type": "stream",
     "text": [
      "When printing a sparse matrix, it shows its nonzero entries:\n",
      "  (0, 0)\t4.0\n",
      "  (3, 3)\t5.0\n",
      "  (1, 1)\t7.0\n",
      "  (0, 2)\t9.0\n",
      "If you want to see its `dense` matrix form, you have to use `mat.toarray()`:\n",
      "[[4. 0. 9. 0.]\n",
      " [0. 7. 0. 0.]\n",
      " [0. 0. 0. 0.]\n",
      " [0. 0. 0. 5.]]\n",
      "For x=[1 2 3 4], Mx = [31. 14.  0. 20.]\n"
     ]
    }
   ],
   "source": [
    "from scipy.sparse import coo_matrix\n",
    "\n",
    "# This is how to create a sparse matrix from a given list of (row, column, value) tuples.\n",
    "row  = [0,   3,   1,   0]\n",
    "col  = [0,   3,   1,   2]\n",
    "data = [4.0, 5.0, 7.0, 9.0]\n",
    "M = coo_matrix((data, (row, col)), shape=(4, 4))\n",
    "\n",
    "print(\"When printing a sparse matrix, it shows its nonzero entries:\")\n",
    "print(M)\n",
    "\n",
    "print(\"If you want to see its `dense` matrix form, you have to use `mat.toarray()`:\")\n",
    "print(M.toarray())\n",
    "\n",
    "# This is how to perform matrix-vector products.\n",
    "x = np.array([1, 2, 3, 4])\n",
    "print(\"For x={}, Mx = {}\".format(x, M.dot(x)))"
   ]
  },
  {
   "cell_type": "code",
   "execution_count": 3,
   "metadata": {},
   "outputs": [
    {
     "name": "stdout",
     "output_type": "stream",
     "text": [
      "This matrix has values on its diagonal and on offdiagonals 1 and 2 rows ABOVE it.\n",
      "[[1. 1. 1. 0.]\n",
      " [0. 2. 2. 2.]\n",
      " [0. 0. 3. 3.]\n",
      " [0. 0. 0. 4.]]\n",
      "This matrix has values on its diagonal and on offdiagonals 1 and 2 rows BELOW it.\n",
      "[[1. 0. 0. 0.]\n",
      " [1. 2. 0. 0.]\n",
      " [1. 2. 3. 0.]\n",
      " [0. 2. 3. 4.]]\n",
      "If you want to visualize the matrix for yourself, use `plt.imshow`:\n"
     ]
    },
    {
     "data": {
      "image/png": "[encoded data removed]",
      "text/plain": [
       "<Figure size 432x288 with 2 Axes>"
      ]
     },
     "metadata": {
      "needs_background": "light"
     },
     "output_type": "display_data"
    },
    {
     "name": "stdout",
     "output_type": "stream",
     "text": [
      "For b=[1 2 3 4], the solution x to Mx=b is [1.         0.5        0.33333333 0.5       ]\n",
      "And indeed, Mx - b = [0. 0. 0. 0.]\n"
     ]
    }
   ],
   "source": [
    "from scipy.sparse import diags, SparseEfficiencyWarning\n",
    "from scipy.sparse.linalg import spsolve\n",
    "import warnings\n",
    "warnings.simplefilter('ignore', SparseEfficiencyWarning)  # Suppress confusing warning\n",
    "\n",
    "# This is how to create a sparse matrix from a given list of subdiagonals.\n",
    "diagonals = [[1, 2, 3, 4], [1, 2, 3], [1, 2]]\n",
    "M = diags(diagonals, [0, 1, 2])\n",
    "print(\"This matrix has values on its diagonal and on offdiagonals 1 and 2 rows ABOVE it.\")\n",
    "print(M.toarray())\n",
    "\n",
    "M = diags(diagonals, [0, -1, -2])\n",
    "print(\"This matrix has values on its diagonal and on offdiagonals 1 and 2 rows BELOW it.\")\n",
    "print(M.toarray())\n",
    "\n",
    "print(\"If you want to visualize the matrix for yourself, use `plt.imshow`:\")\n",
    "plt.imshow(M.toarray())\n",
    "plt.colorbar()\n",
    "plt.show()\n",
    "\n",
    "# This is how to solve sparse systems.\n",
    "b = np.array([1, 2, 3, 4])\n",
    "x = spsolve(M, b)\n",
    "print(\"For b={}, the solution x to Mx=b is {}\".format(b, x))\n",
    "print(\"And indeed, Mx - b = {}\".format(M.dot(x) - b))"
   ]
  },
  {
   "cell_type": "markdown",
   "metadata": {
    "deletable": false,
    "editable": false,
    "nbgrader": {
     "cell_type": "markdown",
     "checksum": "3dc2d12a81fc8a848811fbda79d6a0e2",
     "grade": false,
     "grade_id": "cell-8b89ecb36f584411",
     "locked": true,
     "schema_version": 3,
     "solution": false,
     "task": false
    }
   },
   "source": [
    "--------\n",
    "# Exercise 1\n",
    "Consider the following boundary value problem involving a nonlinear ordinary differential equation:\n",
    "\n",
    "$$ \\tag{1} y''(x) + \\exp(y(x)) = 0, \\quad 0 < x < 1, \\quad y(0) = y(1) = 0.$$\n",
    "\n",
    "The purpose of this exercise is to approximate the solution to this boundary value problem, by discretizing the problem and then solving the resulting system of nonlinear equations. "
   ]
  },
  {
   "cell_type": "markdown",
   "metadata": {
    "deletable": false,
    "editable": false,
    "nbgrader": {
     "cell_type": "markdown",
     "checksum": "4e46d45e2e32295012a06f2b9d755065",
     "grade": false,
     "grade_id": "cell-5aec7cf5770da0f2",
     "locked": true,
     "schema_version": 3,
     "solution": false,
     "task": false
    }
   },
   "source": [
    "Problem (1) will be discretized using finite differences. Suppose we use $n+2$ discretization points for $x$, denoted $x_k = kh$ for $k \\in \\{0, \\ldots, n+1\\}$ and $h = 1/(n+1)$. The approximate solution is denoted $y_k = y(x_k)$. \n",
    "\n",
    "We will use a _second-order central finite difference_ approximation for the second derivative: \n",
    "\n",
    "$$ \\tag{2} y''(x_k) \\approx \\frac{y_{k-1} - 2 y_k + y_{k+1}}{h^2}.$$\n",
    "\n",
    "The term $\\exp(y(x_k))$ can simply be approximated by $\\exp(y_k)$. Thus for $x=x_k$, equation (1) becomes\n",
    "\n",
    "$$ \\tag{3} \\frac{y_{k-1} - 2 y_k + y_{k+1}}{h^2} + \\exp y_k = 0, \\quad k = 1, \\ldots, n.$$\n",
    "\n",
    "The boundary conditions (the conditions $y(0) = y(1) = 1$), lead to the requirement that $y_0 = y_{n+1} = 0$. To find the remaining values $y_k$, $k=1, \\ldots, n$, equation (3) will be used for $k = 1, \\ldots, n$. In this way, one obtains $n$ equations for $n$ unknowns, to which, in principle, a rootfinding method can be applied.\n",
    "\n",
    "We will write $\\vec y = \\begin{bmatrix} y_1 \\\\ \\vdots \\\\ y_n \\end{bmatrix}$ for the vector of values to be determined. \n"
   ]
  },
  {
   "cell_type": "markdown",
   "metadata": {
    "deletable": false,
    "editable": false,
    "nbgrader": {
     "cell_type": "markdown",
     "checksum": "189935d3bdaedbdc19f1bd51cc1514ab",
     "grade": false,
     "grade_id": "cell-0ff3f6bee1fe1468",
     "locked": true,
     "schema_version": 3,
     "solution": false,
     "task": false
    }
   },
   "source": [
    "## (a) -- 2 points\n",
    "As a first step, finish the function `SecondDerMatrix` that returns a matrix $\\bf{M}$ that maps the vector $\\vec y$ to the vector of the approximate values $y''(x_k)$, $k=1, \\ldots, n$ given in (2). To get full points for this part of the exercise you must create output in the form of a sparse matrix."
   ]
  },
  {
   "cell_type": "code",
   "execution_count": 4,
   "metadata": {
    "deletable": false,
    "nbgrader": {
     "cell_type": "code",
     "checksum": "375341edfdca1c3f6868a8490383fb0d",
     "grade": true,
     "grade_id": "cell-9e0733e191b315a4",
     "locked": false,
     "points": 2,
     "schema_version": 3,
     "solution": true,
     "task": false
    }
   },
   "outputs": [],
   "source": [
    "from scipy.sparse import coo_matrix\n",
    "from numpy import linalg as la\n",
    "\n",
    "def SecondDerMatrix(n):\n",
    "    # YOUR CODE HERE\n",
    "    h=1/(n+1)\n",
    "    diagonal=[[1/h**2]*(n-1),[-2/h**2]*n,[1/h**2]*(n-1)]\n",
    "    M=diags(diagonal,[-1,0,1])\n",
    "    return M.toarray()"
   ]
  },
  {
   "cell_type": "markdown",
   "metadata": {
    "deletable": false,
    "editable": false,
    "nbgrader": {
     "cell_type": "markdown",
     "checksum": "40ac1c07025e88bb2bf53e8b79e6f037",
     "grade": false,
     "grade_id": "cell-ad2bd1424fe88df2",
     "locked": true,
     "schema_version": 3,
     "solution": false,
     "task": false
    }
   },
   "source": [
    "## (b) -- 1 point\n",
    "Second-order central finite differences are exact for quadratic functions. In order to test your implementation, choose $n=10$ and apply the second derivative matrix from part (a) to a quadratic function $y(x)$ with $y(0) = y(1) = 0$ for which you know the second derivative $y''(x)$."
   ]
  },
  {
   "cell_type": "code",
   "execution_count": 5,
   "metadata": {
    "deletable": false,
    "nbgrader": {
     "cell_type": "code",
     "checksum": "b254d24b03b6f103627a82912d2547b2",
     "grade": true,
     "grade_id": "cell-7c63d2bb91a3a7cd",
     "locked": false,
     "points": 1,
     "schema_version": 3,
     "solution": true,
     "task": false
    },
    "scrolled": true
   },
   "outputs": [
    {
     "name": "stdout",
     "output_type": "stream",
     "text": [
      "[2. 2. 2. 2. 2. 2. 2. 2. 2. 2.]\n"
     ]
    }
   ],
   "source": [
    "# YOUR CODE HERE\n",
    "# x_k=k/n+1\n",
    "X=np.arange(1,11,1) # [1,2,3,...10] shape (1,10)\n",
    "qua=[(x/11)**2-x/11 for x in X] # y=(x/n+1)^2-(x/n+1)  y''=2\n",
    "y_sec_der=np.dot(SecondDerMatrix(10),qua)\n",
    "print(y_sec_der)"
   ]
  },
  {
   "cell_type": "markdown",
   "metadata": {
    "deletable": false,
    "editable": false,
    "nbgrader": {
     "cell_type": "markdown",
     "checksum": "47f9704469bf9fe325635d9d9e9e8e98",
     "grade": false,
     "grade_id": "cell-6a9db0454b25e6c0",
     "locked": true,
     "schema_version": 3,
     "solution": false,
     "task": false
    }
   },
   "source": [
    "## (c) -- 2 points\n",
    "\n",
    "\n",
    "Defining $\\vec y = \\begin{bmatrix} y_1 \\\\ \\vdots \\\\ y_n \\end{bmatrix}$ and \n",
    "$E(\\vec y) = \\begin{bmatrix} \\exp(y_1) \\\\ \\vdots \\\\ \\exp(y_n) \\end{bmatrix}$, the equations (3) can be written in the form\n",
    "\n",
    "$$ F(\\vec y) := {\\bf M} \\cdot \\vec y + E(\\vec y) = \\vec 0. $$\n",
    "\n",
    "Finish the function `F` that defines $F(\\vec y) = {\\bf M} \\cdot \\vec y + E(\\vec y)$.\n",
    "Finish the function `JacobianF` that computes the Jacobian ${\\bf J}_F(\\vec y)$ of $F(\\vec y)$.\n",
    "To get full points for this part of the exercise, the Jacobian must be computed in the form of a sparse matrix."
   ]
  },
  {
   "cell_type": "code",
   "execution_count": 6,
   "metadata": {
    "deletable": false,
    "nbgrader": {
     "cell_type": "code",
     "checksum": "14ccab984a2311bdd95071739b86903b",
     "grade": true,
     "grade_id": "cell-d421a544453be84a",
     "locked": false,
     "points": 2,
     "schema_version": 3,
     "solution": true,
     "task": false
    }
   },
   "outputs": [],
   "source": [
    "def F(y):\n",
    "    # YOUR CODE HERE\n",
    "    return SecondDerMatrix(len(y)).dot(y)+np.exp(y)\n",
    "    \n",
    "def JacobianF(y):\n",
    "    # YOUR CODE HERE\n",
    "    \n",
    "    ## We found that we can obatin Jacobian by adding e^(y_n) \n",
    "    ## to the diagonal of matrix M in (a)\n",
    "    M=SecondDerMatrix(len(y))\n",
    "    for i in range(len(y)):\n",
    "        M[i,i]+=np.exp(y[i])\n",
    "    return M"
   ]
  },
  {
   "cell_type": "markdown",
   "metadata": {
    "deletable": false,
    "editable": false,
    "nbgrader": {
     "cell_type": "markdown",
     "checksum": "0e7200a7faff04e915293a9eaa38a10c",
     "grade": false,
     "grade_id": "cell-7d1a3da05c6d0f98",
     "locked": true,
     "schema_version": 3,
     "solution": false,
     "task": false
    }
   },
   "source": [
    "## (d) -- 3 points\n",
    "1. Write down the first order Taylor expansion $T_F(\\vec y, \\vec s)$ for $F(\\vec y+\\vec s)$.\n",
    "2. In order to check your implementation of the Jacobian matrix, compute and print both $F(\\vec y+\\vec s)$ and its first order Taylor approximation $T_F(\\vec y, \\vec s)$ for a choice $\\vec y$ and $\\vec s$.\n",
    "3. Verify numerically that the error $||F(\\vec y + \\vec s) - T_F(\\vec y, \\vec s)||_2$ is $\\mathcal O(||\\vec s||_2^2)$. Hint: take vectors $\\vec s$ with $\\|\\vec s\\|_2 = \\mathcal O(h)$  for multiple values for $h$, e.g. $h = 10^{-k}$ for a range of $k$. "
   ]
  },
  {
   "cell_type": "markdown",
   "metadata": {
    "deletable": false,
    "nbgrader": {
     "cell_type": "markdown",
     "checksum": "f670080f1b2b63e93841d5edb1530ad0",
     "grade": true,
     "grade_id": "cell-f1329a5a81b81ed4",
     "locked": false,
     "points": 1,
     "schema_version": 3,
     "solution": true,
     "task": false
    }
   },
   "source": [
    "Subquestion 1.\n",
    "\n",
    "$T_F(\\vec y,\\vec s)$=$F(\\vec y)$+$F'(\\vec y)\\cdot \\vec s$ =$F(\\vec y)$+($\\partial F_i(\\pmb y)/\\partial y_j$) $\\cdot \\vec s$=$F(\\vec y)$+$\\pmb J_F(\\pmb y) \\cdot \\vec s$"
   ]
  },
  {
   "cell_type": "code",
   "execution_count": 7,
   "metadata": {
    "deletable": false,
    "nbgrader": {
     "cell_type": "code",
     "checksum": "4dbcf2f1fa559ab2eb68bae559ca1f2f",
     "grade": true,
     "grade_id": "cell-68d75893db87ddc0",
     "locked": false,
     "points": 2,
     "schema_version": 3,
     "solution": true,
     "task": false
    },
    "scrolled": true
   },
   "outputs": [
    {
     "name": "stdout",
     "output_type": "stream",
     "text": [
      "F(y+s) [ -2.53793606  -0.1370516    3.20800782 -56.42384794]\n",
      "T_F(y,s) [ -2.53793729  -0.13706151   3.20800374 -56.42386997]\n",
      "s: [0.1, 0.1, 0.1, 0.1]\n",
      "s: [0.01, 0.01, 0.01, 0.01]\n",
      "s: [0.001, 0.001, 0.001, 0.001]\n",
      "s: [0.0001, 0.0001, 0.0001, 0.0001]\n",
      "s: [1e-05, 1e-05, 1e-05, 1e-05]\n",
      "s: [1e-06, 1e-06, 1e-06, 1e-06]\n",
      "s: [1e-07, 1e-07, 1e-07, 1e-07]\n",
      "s: [1e-08, 1e-08, 1e-08, 1e-08]\n",
      "s: [1e-09, 1e-09, 1e-09, 1e-09]\n"
     ]
    },
    {
     "data": {
      "image/png": "[encoded data removed]",
      "text/plain": [
       "<Figure size 432x288 with 1 Axes>"
      ]
     },
     "metadata": {
      "needs_background": "light"
     },
     "output_type": "display_data"
    }
   ],
   "source": [
    "# Subquestions 2 and 3.\n",
    "# YOUR CODE HERE\n",
    "def taylor(y,s):\n",
    "    return F(y)+np.dot(JacobianF(y),s)\n",
    "\n",
    "x=[0.1,0.2,0.3,0.4]\n",
    "y=[10*(i-i**2) for i in x ]\n",
    "s=[0.001,0.002,-0.001,-0.002]\n",
    "t=[y[i]+s[i] for i in range(len(y))]\n",
    "Fys=F(t)\n",
    "TFys=taylor(y,s)\n",
    "print('F(y+s)',Fys)\n",
    "print('T_F(y,s)',TFys)\n",
    "\n",
    "\n",
    "error=[] #F-T_F 2-norm\n",
    "bigO=[] # s 2-norm square\n",
    "step=range(1,10)\n",
    "for k in step:\n",
    "    ss = [1 / 10 ** k] * 4\n",
    "    print('s:',ss)\n",
    "    t = [y[i] + ss[i] for i in range(len(y))]\n",
    "    Fys = F(t)\n",
    "    TFys = taylor(y, ss)\n",
    "    error.append(la.norm(Fys-TFys,2))\n",
    "    bigO.append(la.norm(ss,2)**2)\n",
    "plt.semilogy(step,error,label='F-T_F')\n",
    "plt.semilogy(step,bigO,label='s^2')\n",
    "plt.ylabel('2-norm')\n",
    "plt.xlabel('k')\n",
    "plt.legend()\n",
    "plt.show()"
   ]
  },
  {
   "cell_type": "markdown",
   "metadata": {},
   "source": [
    "When k<=7, $||F(\\vec y + \\vec s) - T_F(\\vec y, \\vec s)||_2$ and $\\mathcal O(||\\vec s||_2^2)$ have same trend. But the error will not decrease due to machine pricision when k>7."
   ]
  },
  {
   "cell_type": "markdown",
   "metadata": {
    "deletable": false,
    "editable": false,
    "nbgrader": {
     "cell_type": "markdown",
     "checksum": "76f21352868438c33be0ca904716a031",
     "grade": false,
     "grade_id": "cell-b1aa67d6ea92b4c7",
     "locked": true,
     "schema_version": 3,
     "solution": false,
     "task": false
    }
   },
   "source": [
    "## (e) -- 2 points\n",
    "1. Finish the function `NewtonSolve` below to solve the system of equations.\n",
    "2. Take $n=40$, and experiment with your function. Try to find a choice of `y0` such that the method doesn't converge, as well as a choice of `y0` such that the method converges. In your answer, list the types of convergence behavior you found. Show a convergent example (if you found any) and a nonconvergent example (if you found any). Show the solutions you found for each example.\n"
   ]
  },
  {
   "cell_type": "code",
   "execution_count": 8,
   "metadata": {
    "deletable": false,
    "nbgrader": {
     "cell_type": "code",
     "checksum": "b09e388e90f8e8771543849029648b9b",
     "grade": true,
     "grade_id": "cell-033ee536f11decb8",
     "locked": false,
     "points": 1,
     "schema_version": 3,
     "solution": true,
     "task": false
    }
   },
   "outputs": [],
   "source": [
    "# Subquestion 1.\n",
    "def NewtonSolve(y0, K):\n",
    "    \"\"\" Use Newton's method to solve F(y) = 0 with initial guess y0 and K iterations. \"\"\"\n",
    "    y = y0\n",
    "    # YOUR CODE HERE\n",
    "    for iteration in range(K):\n",
    "        delta_y=spsolve(JacobianF(y),-F(y))\n",
    "        for i in range(len(y)):\n",
    "            y[i]+=delta_y[i]\n",
    "        print('F(y) after',iteration+1,'iteration:',F(y))\n",
    "    return y"
   ]
  },
  {
   "cell_type": "code",
   "execution_count": 10,
   "metadata": {
    "deletable": false,
    "nbgrader": {
     "cell_type": "code",
     "checksum": "32666429312b4fed93adbb74fe0a8951",
     "grade": true,
     "grade_id": "cell-ad7022706ca4f890",
     "locked": false,
     "points": 1,
     "schema_version": 3,
     "solution": true,
     "task": false
    }
   },
   "outputs": [
    {
     "name": "stdout",
     "output_type": "stream",
     "text": [
      "convergence case\n",
      "F(y) after 1 iteration: [1.97186273e-01 8.15422847e-01 1.72178899e-02 6.46196480e-04\n",
      " 1.08717599e-02 2.24941329e-02 3.69791247e-01 3.16451044e-01\n",
      " 2.39916524e-01 1.80566190e-01 3.09969327e-01 7.80357113e-02\n",
      " 2.56849139e-05 1.69838404e-05 4.02217868e-01 1.03401335e-02\n",
      " 2.24814716e-06 6.11103283e-02 6.50975258e-04 3.21436483e-01\n",
      " 7.74343654e-01 2.35342768e-01 2.27936351e-01 1.58841716e-01\n",
      " 9.64185516e-02 3.79737016e-05 3.94767255e-01 1.15688673e-01\n",
      " 8.47023679e-02 4.68391531e-01 4.11905613e-01 3.51584594e-01\n",
      " 1.38849635e-01 2.98557088e-06 2.07165050e-01 4.27330576e-01\n",
      " 3.58229148e-02 5.44275827e-01 7.54499166e-01 3.83175598e-02]\n",
      "F(y) after 2 iteration: [3.52648074e-06 1.36245413e-05 2.67527546e-05 4.43075544e-05\n",
      " 6.63925865e-05 9.29464988e-05 1.23811551e-04 1.55085254e-04\n",
      " 1.86026825e-04 2.16525130e-04 2.46599497e-04 2.73773182e-04\n",
      " 3.00753021e-04 3.28503342e-04 3.56907103e-04 3.78889694e-04\n",
      " 4.00626397e-04 4.22189742e-04 4.42341026e-04 4.62056746e-04\n",
      " 4.75035421e-04 4.72217225e-04 4.63975040e-04 4.50613769e-04\n",
      " 4.33665215e-04 4.14507652e-04 3.95040132e-04 3.68663359e-04\n",
      " 3.40733730e-04 3.12085231e-04 2.77415911e-04 2.38903055e-04\n",
      " 1.98743742e-04 1.60653122e-04 1.26585317e-04 9.48550135e-05\n",
      " 6.47885393e-05 4.03467655e-05 1.96670583e-05 4.90448550e-06]\n",
      "F(y) after 3 iteration: [5.32418554e-12 2.14839257e-11 4.88149521e-11 8.73499051e-11\n",
      " 1.36940015e-10 1.97237338e-10 2.67372346e-10 3.46388251e-10\n",
      " 4.32727632e-10 5.24798205e-10 6.20443474e-10 7.17611082e-10\n",
      " 8.13854539e-10 9.06866804e-10 9.94044624e-10 1.07284093e-09\n",
      " 1.14125820e-09 1.19683063e-09 1.23799726e-09 1.26297706e-09\n",
      " 1.27078059e-09 1.26078881e-09 1.23309185e-09 1.18891275e-09\n",
      " 1.12962173e-09 1.05703712e-09 9.73303216e-10 8.81224871e-10\n",
      " 7.83036080e-10 6.81809276e-10 5.80243187e-10 4.81067408e-10\n",
      " 3.86717103e-10 2.99758884e-10 2.21843433e-10 1.54461777e-10\n",
      " 9.87621096e-11 5.52446977e-11 2.43591813e-11 6.02851102e-12]\n",
      "F(y) after 4 iteration: [-3.33066907e-15  4.66293670e-15 -1.11022302e-15  1.02140518e-14\n",
      " -2.62012634e-14 -1.33226763e-15 -2.35367281e-14  1.57651669e-14\n",
      "  1.53210777e-14 -2.55351296e-14  3.37507799e-14 -4.81836793e-14\n",
      "  1.99840144e-15  5.77315973e-14 -4.44089210e-14  2.08721929e-14\n",
      " -2.86437540e-14  4.66293670e-15  1.37667655e-14 -1.99840144e-15\n",
      "  2.64233080e-14 -4.30766534e-14  4.66293670e-15  2.81996648e-14\n",
      " -6.43929354e-14  6.92779167e-14  8.88178420e-16 -2.64233080e-14\n",
      " -1.97619698e-14  6.21724894e-14 -5.39568390e-14  1.53210777e-14\n",
      " -1.26565425e-14  1.90958360e-14 -2.97539771e-14  1.64313008e-14\n",
      " -1.82076576e-14  5.99520433e-15 -9.32587341e-15 -3.33066907e-15]\n",
      "F(y) after 5 iteration: [-3.33066907e-15  4.66293670e-15  1.28785871e-14 -3.24185123e-14\n",
      "  3.04201109e-14 -1.55431223e-15  1.88737914e-14 -1.26565425e-14\n",
      " -1.31006317e-14  3.10862447e-14 -5.17363929e-14  3.68594044e-14\n",
      "  1.77635684e-15 -2.77555756e-14  1.24344979e-14  4.92939023e-14\n",
      " -8.54871729e-14  8.97060204e-14 -1.00142117e-13  5.48450174e-14\n",
      "  5.48450174e-14 -1.00142117e-13  8.97060204e-14 -8.54871729e-14\n",
      "  4.92939023e-14  1.24344979e-14 -2.77555756e-14  1.77635684e-15\n",
      "  3.68594044e-14 -8.01581024e-14  8.79296636e-14 -4.15223411e-14\n",
      " -1.26565425e-14  1.88737914e-14 -1.55431223e-15  1.62092562e-14\n",
      " -3.99680289e-15 -1.33226763e-15  4.66293670e-15  3.77475828e-15]\n",
      "F(y) after 6 iteration: [-3.33066907e-15 -2.44249065e-15 -8.21565038e-15  1.02140518e-14\n",
      "  2.22044605e-15 -2.97539771e-14  4.88498131e-15  1.57651669e-14\n",
      "  4.37427872e-14 -8.23785484e-14  6.21724894e-14 -4.84057239e-14\n",
      "  3.01980663e-14  6.66133815e-16  1.24344979e-14 -3.59712260e-14\n",
      "  2.81996648e-14 -2.37587727e-14  1.35447209e-14 -1.99840144e-15\n",
      " -1.99840144e-15  1.35447209e-14 -2.37587727e-14  2.81996648e-14\n",
      " -7.54951657e-15 -4.44089210e-14  2.90878432e-14  5.86197757e-14\n",
      " -1.05027098e-13  9.05941988e-14 -5.39568390e-14  1.53210777e-14\n",
      " -1.26565425e-14  3.33066907e-14 -2.97539771e-14 -1.19904087e-14\n",
      "  2.44249065e-14 -1.53210777e-14 -2.44249065e-15  3.77475828e-15]\n",
      "F(y) after 7 iteration: [ 1.08801856e-14 -9.54791801e-15  1.31006317e-14 -3.99680289e-15\n",
      "  2.22044605e-15  2.70894418e-14 -8.03801470e-14  4.41868764e-14\n",
      " -1.31006317e-14  3.10862447e-14 -5.15143483e-14  6.52811138e-14\n",
      " -2.66453526e-14 -2.77555756e-14  1.24344979e-14  2.08721929e-14\n",
      " -2.86437540e-14  6.15063556e-14 -4.32986980e-14 -1.99840144e-15\n",
      " -1.99840144e-15 -4.32986980e-14  6.15063556e-14 -2.86437540e-14\n",
      "  2.08721929e-14  1.24344979e-14 -2.77555756e-14 -2.66453526e-14\n",
      "  3.68594044e-14 -2.30926389e-14  5.95079541e-14 -4.15223411e-14\n",
      "  1.57651669e-14 -3.79696274e-14  5.55111512e-14  1.99840144e-15\n",
      " -3.24185123e-14  2.73114864e-14  4.66293670e-15 -3.33066907e-15]\n",
      "F(y) after 8 iteration: [-3.33066907e-15  1.88737914e-14 -1.53210777e-14  1.02140518e-14\n",
      "  2.22044605e-15 -2.97539771e-14  3.30846461e-14 -1.26565425e-14\n",
      "  1.53210777e-14 -2.55351296e-14  3.37507799e-14 -4.84057239e-14\n",
      "  3.01980663e-14  2.90878432e-14 -7.28306304e-14  7.77156117e-14\n",
      " -5.70654635e-14  3.30846461e-14 -1.48769885e-14 -1.99840144e-15\n",
      " -1.99840144e-15  1.35447209e-14  3.30846461e-14 -8.54871729e-14\n",
      "  4.92939023e-14  1.24344979e-14 -2.75335310e-14  1.99840144e-15\n",
      "  8.65973959e-15  5.32907052e-15  2.88657986e-15 -1.31006317e-14\n",
      "  1.57651669e-14 -2.35367281e-14 -1.33226763e-15  2.22044605e-15\n",
      "  1.02140518e-14 -1.53210777e-14 -9.32587341e-15  3.77475828e-15]\n",
      "F(y) after 9 iteration: [ 3.77475828e-15 -9.54791801e-15 -1.11022302e-15  1.02140518e-14\n",
      " -1.22124533e-14  2.70894418e-14  1.88737914e-14 -1.26565425e-14\n",
      " -1.31006317e-14  2.66453526e-15  5.32907052e-15  3.68594044e-14\n",
      " -2.66453526e-14 -2.77555756e-14  4.08562073e-14 -3.59712260e-14\n",
      " -2.22044605e-16  6.15063556e-14 -4.32986980e-14 -1.99840144e-15\n",
      " -1.99840144e-15  1.35447209e-14 -5.21804822e-14  5.66213743e-14\n",
      "  2.08721929e-14 -7.28306304e-14  2.90878432e-14  3.01980663e-14\n",
      " -1.99840144e-14  5.32907052e-15 -5.39568390e-14  4.37427872e-14\n",
      "  4.41868764e-14 -5.19584376e-14  2.70894418e-14  2.22044605e-15\n",
      " -3.99680289e-15  1.31006317e-14 -2.44249065e-15 -3.33066907e-15]\n",
      "F(y) after 10 iteration: [-3.33066907e-15  1.19904087e-14 -1.53210777e-14  1.02140518e-14\n",
      " -1.19904087e-14 -1.33226763e-15  4.88498131e-15 -1.24344979e-14\n",
      " -1.31006317e-14  3.13082893e-14 -2.30926389e-14 -1.97619698e-14\n",
      "  3.04201109e-14  8.88178420e-16 -1.59872116e-14  4.95159469e-14\n",
      " -5.70654635e-14 -2.37587727e-14  4.21884749e-14 -1.99840144e-15\n",
      " -1.99840144e-15  4.21884749e-14 -2.37587727e-14 -5.70654635e-14\n",
      "  4.95159469e-14 -1.59872116e-14  2.93098879e-14 -2.64233080e-14\n",
      "  8.65973959e-15 -2.30926389e-14  3.13082893e-14 -1.31006317e-14\n",
      "  1.59872116e-14 -2.35367281e-14 -1.33226763e-15  3.06421555e-14\n",
      " -3.24185123e-14  5.99520433e-15 -2.22044605e-15  3.77475828e-15]\n",
      "Solution [0.01310082 0.0255989  0.03748668 0.04875685 0.05940242 0.06941669\n",
      " 0.07879331 0.08752629 0.09560996 0.10303907 0.10980872 0.11591445\n",
      " 0.12135218 0.12611827 0.13020952 0.13362316 0.13635686 0.13840878\n",
      " 0.1397775  0.1404621  0.1404621  0.1397775  0.13840878 0.13635686\n",
      " 0.13362316 0.13020952 0.12611827 0.12135218 0.11591445 0.10980872\n",
      " 0.10303907 0.09560996 0.08752629 0.07879331 0.06941669 0.05940242\n",
      " 0.04875685 0.03748668 0.0255989  0.01310082]\n",
      "non convergence case\n",
      "F(y) after 1 iteration: [3.74713091e+01 2.60448261e+04 1.37721328e+04 7.42804586e+01\n",
      " 3.70176588e+02 1.24014584e+03 3.32596288e+03 9.41408036e+03\n",
      " 2.38623668e+04 5.57522897e+04 1.26329467e+05 2.82844014e+05\n",
      " 4.59634691e+05 7.08984468e+05 7.42057701e+05 1.58302171e+04\n",
      " 8.29049050e+03 5.99960152e+02 1.27490444e+03 2.64354227e+03\n",
      " 5.35362780e+03 4.09016730e+03 3.01973187e+02 9.12909712e+00\n",
      " 5.14647217e+04 5.36765268e+11 7.33431455e+08 9.59594397e+05\n",
      " 1.52664923e+04 9.60345010e+02 5.12707839e+03 3.04703640e+03\n",
      " 3.89821214e+03 7.79433244e+02 1.10669673e+04 4.40387739e+03\n",
      " 3.51587454e+04 1.95856061e+05 1.79683631e+10 1.40318101e+13]\n",
      "F(y) after 2 iteration: [1.75490958e+01 1.17413551e+04 1.17507474e+04 5.23039767e+03\n",
      " 9.46678466e+02 5.59771740e+02 1.05717892e+04 1.43838739e+02\n",
      " 9.75614184e+03 2.04294488e+04 4.64746224e+04 1.03904898e+05\n",
      " 1.69070731e+05 2.60659429e+05 2.71264707e+05 5.81253386e+03\n",
      " 9.33339309e+01 2.84565443e+03 9.79974956e+03 1.28340883e+04\n",
      " 5.49656267e+05 2.36468194e+04 3.00218998e+05 2.93863369e+07\n",
      " 2.42034789e+09 1.97464916e+11 2.69814327e+08 3.57508328e+05\n",
      " 2.46423039e+04 1.76172870e+04 1.46654398e+04 1.10745598e+05\n",
      " 1.80280404e+04 9.42412479e+02 1.09285151e+04 1.15171038e+04\n",
      " 2.49621649e+04 8.35539510e+04 6.61018917e+09 5.16201445e+12]\n",
      "F(y) after 3 iteration: [5.90135124e+00 2.85398159e+03 2.40168158e+03 1.07744890e+04\n",
      " 5.55490998e+03 1.19960176e+04 5.94474611e+03 4.10375104e+03\n",
      " 4.30642679e+03 7.17475462e+03 1.71359887e+04 3.80670322e+04\n",
      " 6.21839713e+04 9.57603798e+04 9.58195593e+04 1.29027202e+04\n",
      " 8.62303861e+02 4.61049629e+03 1.68949882e+04 6.14943618e+04\n",
      " 2.12958080e+05 4.02913308e+05 1.18048758e+05 1.08105226e+07\n",
      " 8.90396227e+08 7.26432781e+10 9.92591007e+07 1.33283462e+05\n",
      " 1.37256447e+04 8.49795362e+03 1.02129702e+04 4.17737903e+04\n",
      " 5.71320853e+03 9.08442027e+03 1.19258983e+03 6.96291730e+03\n",
      " 8.19720779e+03 3.69984711e+04 2.43175024e+09 1.89899898e+12]\n",
      "F(y) after 4 iteration: [8.65744047e-02 3.13587682e+01 7.25423300e+03 1.03102136e+03\n",
      " 5.85956559e+03 2.90655003e+03 5.39132935e+04 7.93373540e+08\n",
      " 7.68302592e+09 4.82320125e+04 4.72659485e+02 1.47024310e+04\n",
      " 2.28400694e+04 3.50851659e+04 3.78527987e+04 1.35060441e+04\n",
      " 3.77260000e+02 1.24446838e+04 3.05491962e+03 2.29777635e+04\n",
      " 7.80652533e+04 1.47241800e+05 4.64482592e+04 3.97678131e+06\n",
      " 3.27558462e+08 2.67239637e+10 3.65153074e+07 4.98661816e+04\n",
      " 1.09392882e+04 1.40837464e+02 1.56708181e+04 9.77498982e+03\n",
      " 7.96985201e+03 5.38660237e+02 5.10925565e+03 8.38076196e+03\n",
      " 4.89870934e+03 2.45800631e+04 8.94587311e+08 6.98602668e+11]\n",
      "F(y) after 5 iteration: [2.41859196e-01 9.63721441e+01 2.63977364e+02 4.17282630e+03\n",
      " 8.71015344e+03 9.47152867e+03 1.60793611e+06 2.91874423e+08\n",
      " 2.82643167e+09 2.25768478e+06 1.57881028e+04 4.31039980e+03\n",
      " 8.49894109e+03 1.28642427e+04 1.15892249e+04 2.50888152e+04\n",
      " 1.13305407e+08 3.31122929e+05 1.62629313e+04 6.46301221e+03\n",
      " 2.85951344e+04 5.28848180e+04 2.11074998e+04 1.46251149e+06\n",
      " 1.20502020e+08 9.83119194e+09 1.34328777e+07 2.50906175e+04\n",
      " 1.75403517e+04 8.21662661e+03 7.29801962e+03 1.09230489e+03\n",
      " 3.65204814e+03 2.16498354e+04 1.27602264e+04 8.41779378e+05\n",
      " 7.01674063e+04 2.31756168e+04 3.29084672e+08 2.57001545e+11]\n",
      "F(y) after 6 iteration: [1.06796252e+01 3.59423872e+03 1.66083626e+05 3.58593819e+04\n",
      " 4.71580862e+03 1.59413217e+04 5.89669039e+05 1.07373299e+08\n",
      " 1.03978192e+09 8.35513051e+05 5.96540339e+04 2.14348274e+04\n",
      " 2.94200686e+02 5.07085919e+03 1.71279935e+04 7.89721711e+06\n",
      " 4.16854952e+07 1.26904622e+05 2.51969256e+04 1.00069268e+04\n",
      " 9.34156062e+03 1.64195088e+04 1.83775433e+04 5.35803634e+05\n",
      " 4.43302147e+07 3.61668851e+09 4.93998488e+06 1.87132231e+04\n",
      " 7.63018703e+03 2.97485437e+04 1.07806939e+04 5.26760551e+03\n",
      " 1.89619402e+04 4.96240732e+04 1.29699250e+05 3.38034484e+05\n",
      " 2.39261945e+06 1.70204629e+07 1.21079860e+08 9.45455712e+10]\n",
      "F(y) after 7 iteration: [7.74589898e+00 1.70620598e+03 5.89241110e+04 9.35827964e+03\n",
      " 1.71240112e+04 4.81929776e+03 2.19863256e+05 3.94991230e+07\n",
      " 3.82510204e+08 3.09394616e+05 2.75164825e+04 2.02136160e+04\n",
      " 5.84817130e+02 3.16822109e+04 4.36492722e+04 2.90670355e+06\n",
      " 1.53318329e+07 4.86854319e+04 1.30529173e+04 1.85714360e+04\n",
      " 8.15843382e+03 1.05598550e+04 1.10345177e+05 2.02758243e+05\n",
      " 1.63081590e+07 1.33050046e+09 1.82323715e+06 2.17241870e+05\n",
      " 1.69332410e+04 1.00190658e+04 6.61651357e+03 8.45595210e+03\n",
      " 5.65196339e+03 1.83871531e+04 4.76997594e+04 1.24816911e+05\n",
      " 8.80190085e+05 6.26147829e+06 4.45448785e+07 3.47813588e+10]\n",
      "F(y) after 8 iteration: [2.85761848e-01 4.41236388e+01 2.05493780e+04 6.48210864e+03\n",
      " 1.59765171e+03 1.11038329e+04 8.00060236e+04 1.45296103e+07\n",
      " 1.40713432e+08 1.15727143e+05 1.18340106e+04 6.88693837e+03\n",
      " 6.74222688e+03 9.23647418e+03 2.35884711e+04 1.06816752e+06\n",
      " 5.63673190e+06 1.95649637e+04 8.15594741e+03 8.23615270e+03\n",
      " 2.29735643e+04 1.55767621e+04 3.75093921e+04 7.64935788e+04\n",
      " 5.99939176e+06 4.89458877e+08 6.72735131e+05 8.40591675e+04\n",
      " 4.25709567e+04 7.94155124e+03 4.72053583e+03 2.19704190e+03\n",
      " 5.71715909e+03 6.19198894e+03 1.75720378e+04 4.64050935e+04\n",
      " 3.23786286e+05 2.30346893e+06 1.63892327e+07 1.27953342e+10]\n",
      "F(y) after 9 iteration: [1.08390877e+01 1.51583958e+03 2.76722813e+03 1.55063526e+04\n",
      " 5.51834030e+03 3.53296839e+04 3.55880047e+04 5.34371259e+06\n",
      " 5.17614178e+07 3.77916089e+04 4.43415502e+04 1.52731545e+08\n",
      " 1.08376442e+05 3.13149503e+06 2.33096009e+04 3.90597850e+05\n",
      " 2.06907420e+06 1.54793858e+04 1.58949547e+03 6.54876530e+03\n",
      " 1.08218665e+04 2.47178832e+04 1.73842546e+04 3.02233971e+04\n",
      " 2.20692253e+06 1.80056959e+08 2.49488329e+05 3.17860109e+04\n",
      " 1.36544941e+04 6.58042161e+03 1.63188981e+03 1.84015320e+03\n",
      " 6.30421814e+02 5.75509637e+03 5.60864662e+03 1.77349671e+04\n",
      " 1.19056199e+05 8.47398599e+05 6.03135074e+06 4.70712814e+09]\n",
      "F(y) after 10 iteration: [9.39037582e-02 7.36979870e+00 3.19792915e+03 5.10189875e+03\n",
      " 6.97081645e+03 1.12162960e+04 1.74592114e+04 1.96402302e+06\n",
      " 1.90372606e+07 2.94189016e+04 7.33651055e+05 5.62119555e+07\n",
      " 8.10786451e+06 1.18581653e+06 3.23698515e+09 1.58630135e+05\n",
      " 7.62517023e+05 8.15128454e+04 1.52244000e+04 1.14451874e+03\n",
      " 2.95035504e+03 8.53196142e+03 6.72334796e+03 1.40744923e+04\n",
      " 8.11444699e+05 6.62343286e+07 9.37891599e+04 1.23431942e+04\n",
      " 1.02497651e+04 5.27626871e+04 6.66964610e+04 2.55230770e+03\n",
      " 1.15183633e+04 5.24324506e+02 7.47316930e+02 8.24625923e+03\n",
      " 4.35106619e+04 3.11743602e+05 2.22090231e+06 1.73164388e+09]\n",
      "Solution [ 3.12979134  6.24603401  9.05972305  8.6587548   7.86608004  9.66917656\n",
      "  8.73222608 14.49348979 16.76278261  9.13073803 13.50587168 17.84482767\n",
      " 15.90834508 13.97186248 21.89791756 11.8411298  13.55285388 11.40446787\n",
      "  4.3727689   6.35066968  8.66863143  9.28095538  8.58470205  8.70590814\n",
      " 13.60760744 18.00898972 11.36544053  9.18448261  8.54930541 10.94006409\n",
      " 11.17242295  8.76063392  4.07291042  6.2023408   8.34986796  8.42582743\n",
      " 10.69264955 12.64992197 14.60985839 21.27236413]\n"
     ]
    }
   ],
   "source": [
    "# Subquestion 2, code part\n",
    "# YOUR CODE HERE\n",
    "\n",
    "#convergence case\n",
    "print('convergence case')\n",
    "y0_con=np.random.random(40) # length=40\n",
    "result=NewtonSolve(y0_con,K=10)\n",
    "print('Solution',result)\n",
    "\n",
    "# non convergence case, in which y0 is far away from root\n",
    "print('non convergence case')\n",
    "y0_noncon=np.random.random(40)*10 #[100,100,100,...,100,100,100] length=40\n",
    "result=NewtonSolve(y0_noncon,K=10)\n",
    "print('Solution',result)"
   ]
  },
  {
   "cell_type": "markdown",
   "metadata": {
    "deletable": false,
    "nbgrader": {
     "cell_type": "markdown",
     "checksum": "6690d829141b106ddefae5bd0810144e",
     "grade": true,
     "grade_id": "cell-d250931443b05cf6",
     "locked": false,
     "points": 0,
     "schema_version": 3,
     "solution": true,
     "task": false
    }
   },
   "source": [
    "Subquestion 2, text part\n",
    "\n",
    "The Newton's method is dependent on the starting value $y_0$. The Newton's method might not converge if the initial guess is too far away from the real root. In the non convergence case above, after 10 iterations $F(y)$ is still far away from $\\vec 0$ so the initial case is a nonconvergent example. In the convergence case above, after 3 iterations $F(y)$ is very close to $\\vec 0$ so the initial case is a convergent example. \n",
    "\n",
    "The solutions after 10 iterations for each case are shown above."
   ]
  }
 ],
 "metadata": {
  "kernelspec": {
   "display_name": "Python 3",
   "language": "python",
   "name": "python3"
  },
  "language_info": {
   "codemirror_mode": {
    "name": "ipython",
    "version": 3
   },
   "file_extension": ".py",
   "mimetype": "text/x-python",
   "name": "python",
   "nbconvert_exporter": "python",
   "pygments_lexer": "ipython3",
   "version": "3.7.9"
  }
 },
 "nbformat": 4,
 "nbformat_minor": 2
}
