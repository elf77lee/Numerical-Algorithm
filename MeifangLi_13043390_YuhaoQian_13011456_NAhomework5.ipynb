{
 "cells": [
  {
   "cell_type": "markdown",
   "metadata": {},
   "source": [
    "Before you turn this problem in, make sure everything runs as expected. First, **restart the kernel** (in the menubar, select Kernel$\\rightarrow$Restart) and then **run all cells** (in the menubar, select Cell$\\rightarrow$Run All).\n",
    "\n",
    "Make sure you fill in any place that says `YOUR CODE HERE` or \"YOUR ANSWER HERE\", as well as your name and collaborators below:"
   ]
  },
  {
   "cell_type": "markdown",
   "metadata": {},
   "source": [
    "---"
   ]
  },
  {
   "cell_type": "markdown",
   "metadata": {
    "deletable": false,
    "editable": false,
    "nbgrader": {
     "cell_type": "markdown",
     "checksum": "e28be08ce65723a03eebe90f6af2ba42",
     "grade": false,
     "grade_id": "cell-9883e537b60e8a6c",
     "locked": true,
     "schema_version": 3,
     "solution": false,
     "task": false
    }
   },
   "source": [
    "Please **submit this Jupyter notebook through Canvas** no later than **November 30, 15:00**.\n",
    "\n",
    "Homework is in **groups of two**, and you are expected to hand in original work. Work that is copied from another group will not be accepted.\n",
    "\n",
    "# Exercise 0\n",
    "In the box below, write down the names + student ID of the people in your group."
   ]
  },
  {
   "cell_type": "markdown",
   "metadata": {},
   "source": [
    "MeifangLi_13043390\n",
    "YuhaoQian_13011456"
   ]
  },
  {
   "cell_type": "markdown",
   "metadata": {
    "deletable": false,
    "editable": false,
    "nbgrader": {
     "cell_type": "markdown",
     "checksum": "747061d62bbfde9aa51048dcbfb5a192",
     "grade": false,
     "grade_id": "cell-b3037f62631ff374",
     "locked": true,
     "schema_version": 3,
     "solution": false,
     "task": false
    }
   },
   "source": [
    "# The global keyword (helpful info for exercise 3)\n",
    "In exercise 3 you are asked, at some point, to count the number of times a certain function is evaluated. One way of doing this is using a global variable. To change a global variable x from inside a function, the global keyword is used."
   ]
  },
  {
   "cell_type": "code",
   "execution_count": 1,
   "metadata": {},
   "outputs": [
    {
     "name": "stdout",
     "output_type": "stream",
     "text": [
      "x before: 4\n",
      "x after: 8\n"
     ]
    }
   ],
   "source": [
    "import numpy as np\n",
    "import scipy.optimize\n",
    "import matplotlib.pyplot as plt\n",
    "\n",
    "# to change a global variable x from inside a function, use the global keyword\n",
    "def foo():\n",
    "    global x\n",
    "    x = x*2\n",
    "    \n",
    "x=4\n",
    "print(\"x before:\", x) \n",
    "foo()\n",
    "print(\"x after:\", x)\n",
    "\n",
    "# verify for yourself that omitting the line \"global x\" produces an error"
   ]
  },
  {
   "cell_type": "markdown",
   "metadata": {
    "deletable": false,
    "editable": false,
    "nbgrader": {
     "cell_type": "markdown",
     "checksum": "09eb4102059700053362a6d70d3029a8",
     "grade": false,
     "grade_id": "cell-8b33b320c171235d",
     "locked": true,
     "schema_version": 3,
     "solution": false,
     "task": false
    }
   },
   "source": [
    "-----\n",
    "# Exercise 1\n",
    "**N.B. This is a pen-and-paper exercise. If you prefer you may upload a separate pdf for this exercise and other pen-and-paper exercises. If you do, don't put both files in a single .zip file, upload them both separately.**\n",
    "\n",
    "## (a) (exercise 6.4(b)) 1 point\n",
    "\n",
    "Consider the minimization of \n",
    "$$\n",
    "  f(x,y) = x^2 + y^2\n",
    "$$\n",
    "subject to\n",
    "$$\n",
    "  g(x,y) = xy^2 -1 = 0 .\n",
    "$$\n",
    "Determine the critical points of the Lagrangian function for this problem and determine whether each is a constrained minimum, a constrained maximum, or neither.\n"
   ]
  },
  {
   "cell_type": "markdown",
   "metadata": {
    "deletable": false,
    "nbgrader": {
     "cell_type": "markdown",
     "checksum": "47fff3db288e7d3ce7995c16e5e17a0c",
     "grade": true,
     "grade_id": "cell-a7805a5f1bc0a884",
     "locked": false,
     "points": 1,
     "schema_version": 3,
     "solution": true,
     "task": false
    }
   },
   "source": [
    "YOUR ANSWER HERE\n",
    "\n",
    "Our handwritten answer is submitted in a pdf."
   ]
  },
  {
   "cell_type": "markdown",
   "metadata": {
    "deletable": false,
    "editable": false,
    "nbgrader": {
     "cell_type": "markdown",
     "checksum": "544a41a8dd55add75633bd767233e758",
     "grade": false,
     "grade_id": "cell-9979a25378b9f308",
     "locked": true,
     "schema_version": 3,
     "solution": false,
     "task": false
    }
   },
   "source": [
    "## (b) (exercise 6.4(c)) 1 point\n",
    "\n",
    "Minimize $x+y+3$ under the constraint that $x^2 + x +y^2+y = 4$. Prove that the point you find is a minimum."
   ]
  },
  {
   "cell_type": "markdown",
   "metadata": {
    "deletable": false,
    "nbgrader": {
     "cell_type": "markdown",
     "checksum": "81ed37ee155bed64f0aae0ef39118dfc",
     "grade": true,
     "grade_id": "cell-4d684ea590cdfa54",
     "locked": false,
     "points": 1,
     "schema_version": 3,
     "solution": true,
     "task": false
    }
   },
   "source": [
    "YOUR ANSWER HERE\n",
    "\n",
    "Our handwritten answer is submitted in a pdf."
   ]
  },
  {
   "cell_type": "markdown",
   "metadata": {
    "deletable": false,
    "editable": false,
    "nbgrader": {
     "cell_type": "markdown",
     "checksum": "6aba2d41ad63dca2cf76f1315bcbbefc",
     "grade": false,
     "grade_id": "cell-7177fbddfdd7d873",
     "locked": true,
     "schema_version": 3,
     "solution": false,
     "task": false
    }
   },
   "source": [
    "---\n",
    "# Exercise 2"
   ]
  },
  {
   "cell_type": "markdown",
   "metadata": {
    "deletable": false,
    "editable": false,
    "nbgrader": {
     "cell_type": "markdown",
     "checksum": "99dd228f61fac8629c22581219f8e4f1",
     "grade": false,
     "grade_id": "cell-94cd7e1c744a76c2",
     "locked": true,
     "schema_version": 3,
     "solution": false,
     "task": false
    }
   },
   "source": [
    "## (a) 1 point\n",
    " The Rosenbrock function is given by\n",
    "\n",
    "$$\n",
    "f(x,y) = 100 (y-x^2)^2 + (1-x)^2\n",
    "$$\n",
    "\n",
    "What is the gradient of $f$? Show that there is exactly one local minimum point and determine this point (N.B. this is a pen-and-paper exercise.)"
   ]
  },
  {
   "cell_type": "markdown",
   "metadata": {
    "deletable": false,
    "nbgrader": {
     "cell_type": "markdown",
     "checksum": "0ce9eb2cc3c2dc541aee1ab6aa0f8d2f",
     "grade": true,
     "grade_id": "cell-4f860d2b64403e48",
     "locked": false,
     "points": 1,
     "schema_version": 3,
     "solution": true,
     "task": false
    }
   },
   "source": [
    "YOUR ANSWER HERE\n",
    "\n",
    "Our handwritten answer is submitted in a pdf."
   ]
  },
  {
   "cell_type": "markdown",
   "metadata": {
    "deletable": false,
    "editable": false,
    "nbgrader": {
     "cell_type": "markdown",
     "checksum": "eb59a046feac918aeb9061b3d43e8f6a",
     "grade": false,
     "grade_id": "cell-53b183ed09ef49cd",
     "locked": true,
     "schema_version": 3,
     "solution": false,
     "task": false
    }
   },
   "source": [
    "## (b) 2 points\n",
    "Implement the method of steepest descent. Use ``scipy.optimize.line_search`` as line search method.\n",
    "\n",
    "Test your method on the Rosenbrock function starting from $(x,y) = (0,0)$.\n",
    "Plot the convergence to the minimum.\n"
   ]
  },
  {
   "cell_type": "code",
   "execution_count": 2,
   "metadata": {
    "deletable": false,
    "nbgrader": {
     "cell_type": "code",
     "checksum": "f33eaa695ec43af4a4fe3b5543c30dda",
     "grade": true,
     "grade_id": "cell-2d5c6295e4bcde3c",
     "locked": false,
     "points": 2,
     "schema_version": 3,
     "solution": true,
     "task": false
    }
   },
   "outputs": [
    {
     "data": {
      "image/png": "[encoded data removed]",
      "text/plain": [
       "<Figure size 720x360 with 2 Axes>"
      ]
     },
     "metadata": {
      "needs_background": "light"
     },
     "output_type": "display_data"
    }
   ],
   "source": [
    "# python code here\n",
    "def rosenbrock(x):\n",
    "    # YOUR CODE HERE\n",
    "    return 100*((x[1]-(x[0]**2))**2)+(1-x[0])**2\n",
    "\n",
    "def gradf(x):\n",
    "    # YOUR CODE HERE\n",
    "    x1=400*np.power(x[0],3)-400*x[0]*x[1]+2*x[0]-2\n",
    "    x2=-200*(x[0]**2)+200*x[1]\n",
    "    return np.array([x1,x2])\n",
    "\n",
    "\n",
    "x = np.array([0,0])\n",
    "x_vals = [np.array([0,0])]\n",
    "# Do method of steepest descent, converge to [1,1]\n",
    "for i in range(10000):\n",
    "    result=scipy.optimize.line_search(rosenbrock,gradf,x,-gradf(x))\n",
    "    alpha=result[0]\n",
    "    x_vals.append(x+alpha* (-gradf(x)))\n",
    "    x=x+alpha*(-gradf(x))\n",
    "\n",
    "fig, (ax0, ax1) = plt.subplots(1,2, figsize=(10,5))\n",
    "X, Y = np.linspace(-1, 2, 101), np.linspace(-1,2, 101)\n",
    "xx, yy = np.meshgrid(X, Y)\n",
    "ff = np.zeros(xx.shape)\n",
    "for i, x in enumerate(X):\n",
    "    for j, y in enumerate(Y):\n",
    "        ff[j,i] = rosenbrock((x,y))\n",
    "ax0.contourf(xx,yy,ff, levels=25, cmap='viridis')\n",
    "ax0.plot([x[0] for x in x_vals], [x[1] for x in x_vals], 'k-')\n",
    "ax0.set_title(\"convergence\")\n",
    "ax1.semilogy([np.abs(rosenbrock((x,y))) for (x,y) in x_vals])\n",
    "ax1.set_title(\"error\")\n",
    "plt.show()\n"
   ]
  },
  {
   "cell_type": "markdown",
   "metadata": {
    "deletable": false,
    "editable": false,
    "nbgrader": {
     "cell_type": "markdown",
     "checksum": "90fe4c2daeab49b51755ba45bfd21158",
     "grade": false,
     "grade_id": "cell-2c8f52f1eddef15d",
     "locked": true,
     "schema_version": 3,
     "solution": false,
     "task": false
    }
   },
   "source": [
    "----\n",
    "# Exercise 3"
   ]
  },
  {
   "cell_type": "markdown",
   "metadata": {
    "deletable": false,
    "editable": false,
    "nbgrader": {
     "cell_type": "markdown",
     "checksum": "11ce95fe365042fff66021813fb3cc3c",
     "grade": false,
     "grade_id": "cell-36ba49f061557f52",
     "locked": true,
     "schema_version": 3,
     "solution": false,
     "task": false
    }
   },
   "source": [
    "## (a) 2 points\n",
    "\n",
    "Implement the BFGS method for unconstrained optimization, given in Heath chapter 6. Test the correctness of the code using the data in Example 6.13."
   ]
  },
  {
   "cell_type": "code",
   "execution_count": 3,
   "metadata": {
    "deletable": false,
    "nbgrader": {
     "cell_type": "code",
     "checksum": "dfb2f9a492fe76afd1c476bce0c3249f",
     "grade": true,
     "grade_id": "cell-6afa3b4364c58723",
     "locked": false,
     "points": 2,
     "schema_version": 3,
     "solution": true,
     "task": false
    }
   },
   "outputs": [
    {
     "name": "stdout",
     "output_type": "stream",
     "text": [
      "k: 1 xk: [ 0. -4.] f(xk): 40.0 gradient: [  0. -20.]\n",
      "k: 2 xk: [-2.22222222  0.44444444] f(xk): 2.9629629629629637 gradient: [-2.22222222  2.22222222]\n",
      "k: 3 xk: [0.81632653 0.08163265] f(xk): 0.34985422740524746 gradient: [0.81632653 0.40816327]\n",
      "k: 4 xk: [-0.00915314 -0.01533152] f(xk): 0.0006295284307446703 gradient: [-0.00915314 -0.07665758]\n",
      "k: 5 xk: [-0.00054233  0.00092339] f(xk): 2.2787013239316517e-06 gradient: [-0.00054233  0.00461697]\n"
     ]
    }
   ],
   "source": [
    "# YOUR CODE HERE\n",
    "\n",
    "def f(x):\n",
    "    return 0.5*(x[0]**2)+2.5*(x[1]**2)\n",
    "\n",
    "def grad_f(x):\n",
    "    return np.array([x[0],5*x[1]])\n",
    "\n",
    "x_k=np.array([5,1])\n",
    "B_k=np.identity(2)\n",
    "\n",
    "for i in range(5):\n",
    "    sk = np.linalg.solve(B_k, -grad_f(x_k))\n",
    "    x_k_1=x_k+sk\n",
    "    yk=grad_f(x_k_1)-grad_f(x_k)\n",
    "    front=np.outer(yk,yk.T)/np.dot(yk.T,sk)\n",
    "    back=np.dot(np.outer(np.dot(B_k,sk),sk.T),B_k)/np.dot(np.dot(sk.T,B_k),sk)\n",
    "    B_k_1=B_k+front-back\n",
    "    B_k=B_k_1\n",
    "    x_k=x_k_1\n",
    "    print(\"k:\",str(i+1),\n",
    "        \"xk:\",x_k,\n",
    "     \"f(xk):\",f(x_k),\n",
    "     \"gradient:\",grad_f(x_k))"
   ]
  },
  {
   "cell_type": "markdown",
   "metadata": {},
   "source": [
    "## (b) 2 points\n",
    "\n",
    "Apply your implementation of the BFGS method to find a local minimum of the Rosenbrock function (see previous exercise). Use starting point $(0,0)$ and do not assume any knowledge of the Hessian when you choose $B_0$.\n",
    "Plot the convergence to the minimum."
   ]
  },
  {
   "cell_type": "code",
   "execution_count": 4,
   "metadata": {
    "deletable": false,
    "nbgrader": {
     "cell_type": "code",
     "checksum": "579c3cb3aa3f80ad1740a28b06677f2c",
     "grade": true,
     "grade_id": "cell-e084362700c1f28b",
     "locked": false,
     "points": 2,
     "schema_version": 3,
     "solution": true,
     "task": false
    },
    "scrolled": true
   },
   "outputs": [
    {
     "data": {
      "image/png": "[encoded data removed]",
      "text/plain": [
       "<Figure size 720x360 with 2 Axes>"
      ]
     },
     "metadata": {
      "needs_background": "light"
     },
     "output_type": "display_data"
    }
   ],
   "source": [
    "# YOUR CODE HERE\n",
    "x_k=np.array([0,0])\n",
    "B_k=np.identity(2)\n",
    "x_vals = [np.array([0,0])]\n",
    "\n",
    "for i in range(50):\n",
    "    sk = np.linalg.solve(B_k, -gradf(x_k))\n",
    "    x_k_1=x_k+sk\n",
    "    yk=gradf(x_k_1)-gradf(x_k)\n",
    "    front=np.outer(yk,yk.T)/np.dot(yk.T,sk)\n",
    "    back=np.dot(np.outer(np.dot(B_k,sk),sk.T),B_k)/np.dot(np.dot(sk.T,B_k),sk)\n",
    "    B_k_1=B_k+front-back\n",
    "    B_k=B_k_1\n",
    "    x_k=x_k_1\n",
    "    x_vals.append(x_k)\n",
    "#     print(\"k:\",str(i+1),\n",
    "#         \"xk:\",x_k,\n",
    "#      \"f(xk):\",rosenbrock(x_k),\n",
    "#      \"gradient:\",gradf(x_k))\n",
    "\n",
    "#print(x_vals)\n",
    "fig, (ax0, ax1) = plt.subplots(1,2, figsize=(10,5))\n",
    "X, Y = np.linspace(-25, 20, 101), np.linspace(-100,20, 101)\n",
    "xx, yy = np.meshgrid(X, Y)\n",
    "ff = np.zeros(xx.shape)\n",
    "for i, x in enumerate(X):\n",
    "    for j, y in enumerate(Y):\n",
    "        ff[j,i] = rosenbrock((x,y))\n",
    "ax0.contourf(xx,yy,ff, levels=25, cmap='viridis')\n",
    "ax0.plot([x[0] for x in x_vals], [x[1] for x in x_vals], 'k-')\n",
    "ax0.set_title(\"convergence\")\n",
    "ax1.semilogy([np.abs(rosenbrock((x,y))) for (x,y) in x_vals])\n",
    "ax1.set_title(\"error\")\n",
    "plt.show()"
   ]
  },
  {
   "cell_type": "markdown",
   "metadata": {},
   "source": [
    "## (c) 1 point\n",
    "How does the convergence compare to that of gradient descent (see\n",
    "previous question)? Let your program count the number of function and gradient evaluations and\n",
    "consider this in your comparison. Implement a stopping criterion in both methods that runs until $||x_k-x^*||_2 < 10^{-5}$.\n"
   ]
  },
  {
   "cell_type": "code",
   "execution_count": 5,
   "metadata": {
    "deletable": false,
    "nbgrader": {
     "cell_type": "code",
     "checksum": "0dfefdec3f9ebdbe35785b91add0e5a0",
     "grade": true,
     "grade_id": "cell-1a5c2e9c0f9cf5f1",
     "locked": false,
     "points": 1,
     "schema_version": 3,
     "solution": true,
     "task": false
    }
   },
   "outputs": [
    {
     "name": "stdout",
     "output_type": "stream",
     "text": [
      "BFGS: 46\n"
     ]
    }
   ],
   "source": [
    "# YOUR CODE HERE\n",
    "from numpy import linalg as la\n",
    "\n",
    "x_real=np.array([1,1])\n",
    "x_k=np.array([0,0])\n",
    "B_k=np.identity(2)\n",
    "\n",
    "for i in range(50):\n",
    "    sk = np.linalg.solve(B_k, -gradf(x_k))\n",
    "    x_k_1=x_k+sk\n",
    "    if la.norm(x_k_1-x_real,2)>=1e-5:\n",
    "        yk=gradf(x_k_1)-gradf(x_k)\n",
    "        front=np.outer(yk,yk.T)/np.dot(yk.T,sk)\n",
    "        back=np.dot(np.outer(np.dot(B_k,sk),sk.T),B_k)/np.dot(np.dot(sk.T,B_k),sk)\n",
    "        B_k_1=B_k+front-back\n",
    "        B_k=B_k_1\n",
    "        x_k=x_k_1\n",
    "#         print(\"k:\",str(i+1),\n",
    "#             \"xk:\",x_k,\n",
    "#          \"f(xk):\",rosenbrock(x_k),\n",
    "#          \"gradient:\",gradf(x_k))\n",
    "    else:\n",
    "        break\n",
    "print('BFGS:',i+1)"
   ]
  },
  {
   "cell_type": "code",
   "execution_count": 6,
   "metadata": {},
   "outputs": [
    {
     "name": "stdout",
     "output_type": "stream",
     "text": [
      "Gradiant descent: 6980\n"
     ]
    }
   ],
   "source": [
    "x_real=np.array([1,1])\n",
    "x = np.array([0,0])\n",
    "x_vals = [np.array([0,0])]\n",
    "# Do method of steepest descent\n",
    "for j in range(10000):\n",
    "    result=scipy.optimize.line_search(rosenbrock,gradf,x,-gradf(x))\n",
    "    alpha=result[0]\n",
    "    x_new=x+alpha* (-gradf(x))\n",
    "    if la.norm(x_new-x_real,2)>=1e-5:\n",
    "        x_vals.append(x_new)\n",
    "        x=x_new\n",
    "#         print(\"k:\",str(j+1),\n",
    "#             \"xk:\",x,\n",
    "#          \"f(xk):\",rosenbrock(x),\n",
    "#          \"gradient:\",gradf(x))\n",
    "    else:\n",
    "        break\n",
    "print('Gradiant descent:',j+1)"
   ]
  },
  {
   "cell_type": "markdown",
   "metadata": {
    "deletable": false,
    "nbgrader": {
     "cell_type": "markdown",
     "checksum": "51bd680ac4a7ef5027b77282583d4d95",
     "grade": true,
     "grade_id": "cell-4f850d5c2d8ea5dc",
     "locked": false,
     "points": 0,
     "schema_version": 3,
     "solution": true,
     "task": false
    }
   },
   "source": [
    "Text part:\n",
    "The convergence rate for gradient descent is linear and it needs 6980 evaluations to reach stopping criterion. For BFGS, the convergence rate is superlinear and it only needs 46 evaluations. BFGS converges much faster than gradient descent."
   ]
  }
 ],
 "metadata": {
  "kernelspec": {
   "display_name": "Python 3",
   "language": "python",
   "name": "python3"
  },
  "language_info": {
   "codemirror_mode": {
    "name": "ipython",
    "version": 3
   },
   "file_extension": ".py",
   "mimetype": "text/x-python",
   "name": "python",
   "nbconvert_exporter": "python",
   "pygments_lexer": "ipython3",
   "version": "3.7.9"
  }
 },
 "nbformat": 4,
 "nbformat_minor": 2
}
