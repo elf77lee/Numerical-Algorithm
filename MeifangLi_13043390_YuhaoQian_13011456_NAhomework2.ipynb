{
 "cells": [
  {
   "cell_type": "markdown",
   "metadata": {},
   "source": [
    "Before you turn this problem in, make sure everything runs as expected. First, **restart the kernel** (in the menubar, select Kernel$\\rightarrow$Restart) and then **run all cells** (in the menubar, select Cell$\\rightarrow$Run All).\n",
    "\n",
    "Make sure you fill in any place that says `YOUR CODE HERE` or \"YOUR ANSWER HERE\", as well as your name and collaborators below:"
   ]
  },
  {
   "cell_type": "code",
   "execution_count": 1,
   "metadata": {},
   "outputs": [],
   "source": [
    "NAME = \"YuhaoQian_13011456\"\n",
    "COLLABORATORS = \"MeifangLi_13043390\""
   ]
  },
  {
   "cell_type": "markdown",
   "metadata": {
    "deletable": false,
    "editable": false,
    "nbgrader": {
     "cell_type": "markdown",
     "checksum": "b654779fd1e07660ee9040748a45c822",
     "grade": false,
     "grade_id": "cell-2b750b36b629bca4",
     "locked": true,
     "schema_version": 3,
     "solution": false,
     "task": false
    }
   },
   "source": [
    "---\n",
    "# Homework set 2"
   ]
  },
  {
   "cell_type": "markdown",
   "metadata": {
    "deletable": false,
    "editable": false,
    "nbgrader": {
     "cell_type": "markdown",
     "checksum": "a9787e9089b1ce6573ede5ca4859755c",
     "grade": false,
     "grade_id": "cell-83825325139a7870",
     "locked": true,
     "schema_version": 3,
     "solution": false,
     "task": false
    }
   },
   "source": [
    "# Exercise 0\n",
    "Write down the names + student ID of the people in your group."
   ]
  },
  {
   "cell_type": "markdown",
   "metadata": {
    "deletable": false,
    "nbgrader": {
     "cell_type": "markdown",
     "checksum": "ce773beeedf2878578755c4d5158a99c",
     "grade": true,
     "grade_id": "cell-629562588dd70ec7",
     "locked": false,
     "points": 0,
     "schema_version": 3,
     "solution": true,
     "task": false
    }
   },
   "source": [
    "YOUR ANSWER HERE\n",
    "YuhaoQian_13011456\n",
    "MeifangLi_13043390"
   ]
  },
  {
   "cell_type": "markdown",
   "metadata": {
    "deletable": false,
    "editable": false,
    "nbgrader": {
     "cell_type": "markdown",
     "checksum": "9be04587fb7e5cb7b60d658cd3953fa3",
     "grade": false,
     "grade_id": "cell-4f5d0e698cfd8edb",
     "locked": true,
     "schema_version": 3,
     "solution": false,
     "task": false
    }
   },
   "source": [
    "Run the following cell to import the nessecary packages."
   ]
  },
  {
   "cell_type": "code",
   "execution_count": 2,
   "metadata": {},
   "outputs": [],
   "source": [
    "import scipy.linalg as la\n",
    "import numpy as np\n",
    "import matplotlib.pyplot as plt\n",
    "from numpy import linalg as LA"
   ]
  },
  {
   "cell_type": "markdown",
   "metadata": {
    "deletable": false,
    "editable": false,
    "nbgrader": {
     "cell_type": "markdown",
     "checksum": "236c54fa66cc884cbc2250b72b0c5b1d",
     "grade": false,
     "grade_id": "cell-072e3c5da42a861f",
     "locked": true,
     "schema_version": 3,
     "solution": false,
     "task": false
    }
   },
   "source": [
    "-----\n",
    "# Exercise 1 (2.1 on the Exercise sheet)\n",
    "\n",
    "##### NOTE: You may also submit Exercise 1 as a pdf of your handwritten solutions if you prefer. If so, indicate this where you would put your answers below"
   ]
  },
  {
   "cell_type": "markdown",
   "metadata": {
    "deletable": false,
    "editable": false,
    "nbgrader": {
     "cell_type": "markdown",
     "checksum": "9a50bd11f56e4ff93a3a3f5d9c5a8012",
     "grade": false,
     "grade_id": "cell-306494218416f215",
     "locked": true,
     "schema_version": 3,
     "solution": false,
     "task": false
    }
   },
   "source": [
    "## (a) 1 point\n",
    "Let $A$ be the matrix $\\begin{bmatrix} 1 & -1 & \\alpha \\\\ 2 & 2 & 1 \\\\ 0 & \\alpha & -3/2 \\end{bmatrix}$. For which values of $\\alpha$ is $A$ singular?"
   ]
  },
  {
   "cell_type": "markdown",
   "metadata": {
    "deletable": false,
    "nbgrader": {
     "cell_type": "markdown",
     "checksum": "6f565c8300533b6526b848adcdc26ca9",
     "grade": true,
     "grade_id": "cell-3d33896a965d92eb",
     "locked": false,
     "points": 1,
     "schema_version": 3,
     "solution": true,
     "task": false
    }
   },
   "source": [
    "YOUR ANSWER HERE\n",
    "\n",
    "Our handwritten answer is submitted in a pdf."
   ]
  },
  {
   "cell_type": "markdown",
   "metadata": {
    "deletable": false,
    "editable": false,
    "nbgrader": {
     "cell_type": "markdown",
     "checksum": "159c12af7394fe143a6d9209a7b8425b",
     "grade": false,
     "grade_id": "cell-993d7ad099a6c517",
     "locked": true,
     "schema_version": 3,
     "solution": false,
     "task": false
    }
   },
   "source": [
    "## (b) 1 point\n",
    "Consider the following linear system of equations:\n",
    "$$\n",
    "\\begin{align*}\n",
    "2x + y + z & = 3 \\\\\n",
    "2x - y + 3z &= 5 \\\\\n",
    "-2x + \\alpha y + 3z &= 1.\n",
    "\\end{align*}\n",
    "$$\n",
    "For what values of $\\alpha$ does this system have an infinite number of solutions?"
   ]
  },
  {
   "cell_type": "markdown",
   "metadata": {
    "deletable": false,
    "nbgrader": {
     "cell_type": "markdown",
     "checksum": "c61c0f97e445ed0c974a29efa0f28fda",
     "grade": true,
     "grade_id": "cell-053e45d5469e3352",
     "locked": false,
     "points": 1,
     "schema_version": 3,
     "solution": true,
     "task": false
    }
   },
   "source": [
    "YOUR ANSWER HERE\n",
    "\n",
    "Our handwritten answer is submitted in a pdf."
   ]
  },
  {
   "cell_type": "markdown",
   "metadata": {
    "deletable": false,
    "editable": false,
    "nbgrader": {
     "cell_type": "markdown",
     "checksum": "db4d987555967c757cb021cd1f78b7df",
     "grade": false,
     "grade_id": "cell-d87d3f6d9564df45",
     "locked": true,
     "schema_version": 3,
     "solution": false,
     "task": false
    }
   },
   "source": [
    "## (c) 2 points\n",
    "Denote the columns of an $n \\times n$ matrix $A$ as $A_k$ for $k=1,\\ldots,n$. We define the function $||A||_* = \\max_k ||A_k||_2$. Show that $||A||_*$ is a norm, in that it satisfies the first three properties of a matrix norm (cf. §2.3.2)."
   ]
  },
  {
   "cell_type": "markdown",
   "metadata": {
    "deletable": false,
    "nbgrader": {
     "cell_type": "markdown",
     "checksum": "5be436de682d5b89b837349c8efc6150",
     "grade": true,
     "grade_id": "cell-85404d0ebae15448",
     "locked": false,
     "points": 2,
     "schema_version": 3,
     "solution": true,
     "task": false
    }
   },
   "source": [
    "YOUR ANSWER HERE\n",
    "\n",
    "Our handwritten answer is submitted in a pdf."
   ]
  },
  {
   "cell_type": "markdown",
   "metadata": {
    "deletable": false,
    "editable": false,
    "nbgrader": {
     "cell_type": "markdown",
     "checksum": "b479ad41889654378d2baf8f57567f97",
     "grade": false,
     "grade_id": "cell-f9b678556cbbca76",
     "locked": true,
     "schema_version": 3,
     "solution": false,
     "task": false
    }
   },
   "source": [
    "----\n",
    "# Exercise 2\n",
    "For solving linear systems such as $Ax = b$, it is unnecessary (and often unstable) to compute the inverse $A^{-1}$. Nonetheless, there can be situations where it is useful to compute $A^{-1}$ explicitly. One way to do so is by using the LU-decomposition of $A$."
   ]
  },
  {
   "cell_type": "markdown",
   "metadata": {
    "deletable": false,
    "editable": false,
    "nbgrader": {
     "cell_type": "markdown",
     "checksum": "565e3b2b1ee30b9dbdecfa831dac654f",
     "grade": false,
     "grade_id": "cell-2a60097255e3d1b5",
     "locked": true,
     "schema_version": 3,
     "solution": false,
     "task": false
    }
   },
   "source": [
    "## (a) 2 points\n",
    "Write an algorithm to compute $A^{-1}$ for a non-singular matrix $A$ using its LU-decomposition. You can use `scipy.linalg.lu` (which returns an LU-decomposition with _partial pivoting_, i.e., with a permutation matrix $P$) and the other `scipy.linalg.lu_*` functions, but not `scipy.linalg.inv` (or other methods for computing matrix inverses directly)."
   ]
  },
  {
   "cell_type": "code",
   "execution_count": 3,
   "metadata": {
    "deletable": false,
    "nbgrader": {
     "cell_type": "code",
     "checksum": "b011ebd554ea10da4a53655bdadd6383",
     "grade": true,
     "grade_id": "cell-6f892d33e776e31f",
     "locked": false,
     "points": 2,
     "schema_version": 3,
     "solution": true,
     "task": false
    }
   },
   "outputs": [],
   "source": [
    "def invert(A):\n",
    "    #invert the matrix A\n",
    "    # YOUR CODE HERE\n",
    "    LU,PIV=la.lu_factor(A)\n",
    "    column_number=A.shape[1]  \n",
    "    e=np.zeros(column_number)\n",
    "    inverse_matrix=[]\n",
    "    for i in range(column_number):\n",
    "        e[i]=1\n",
    "        x=la.lu_solve((LU,PIV),e)\n",
    "        if i==0:\n",
    "            inverse_matrix=x\n",
    "            e[i] = 0\n",
    "        else:\n",
    "            inverse_matrix = \\\n",
    "                np.column_stack((inverse_matrix, x))\n",
    "            e[i] = 0\n",
    "\n",
    "    return inverse_matrix\n"
   ]
  },
  {
   "cell_type": "markdown",
   "metadata": {},
   "source": [
    "## (b) 1 point\n",
    "What is the computational complexity of your algorithm, given that the input matrix has size $n \\times n$?\n",
    "Give a short calculation/explanation for your answer."
   ]
  },
  {
   "cell_type": "markdown",
   "metadata": {
    "deletable": false,
    "nbgrader": {
     "cell_type": "markdown",
     "checksum": "2dd9d0b893218b8e70d7a0a66f09e514",
     "grade": true,
     "grade_id": "cell-a15cf95231b8aa77",
     "locked": false,
     "points": 1,
     "schema_version": 3,
     "solution": true,
     "task": false
    }
   },
   "source": [
    "YOUR ANSWER HERE\n",
    "\n",
    "\n",
    "(i)We first use the fuction `scipy.linalg.lu_factor` to compute LU decompositon of a matrix $A$ with partial pivoting;  (ii)Then we use the function `scipy.linalg.lu_solve` to solve an equation system, $Ax = b$, given the pivoted LU decompositon of A;  (iii)For every column of Indetity matrix as b, we compute x and finally stack them together to get inverse matrix of A.   \n",
    "\n",
    "When employing the pivoting strategy, the functions scan rows and search for the largest value in current column and interchange rows. Eliminating the first column will require n multiplications for n-1 rows (we do not need to consider the additions because of slight impacts on the complexity compared to multiplications).For the second column, we have n-1 multiplications for n-2 rows. Therefore, the total number of mutiplications required can be written as $\\sum_{i=1}^{n-1} n(n+1)=\\frac{1}{3}n^3-\\frac{1}{3}n$ and the complexity becomes $O(n^3)$. Solving the resulting triangular system for a single right-hand-side vector (multiplied by permutation matrix) by forward and backsubstitution requires about $n^2$ multiplications. At last, (iii) takes another loop of (ii) to formulate inverse matrix, so the complexity would become $O(n^2*n=n^3)$. Thus, the whole complexity becomes $O(n^3)$."
   ]
  },
  {
   "cell_type": "markdown",
   "metadata": {},
   "source": [
    "## (c) 1 point\n",
    "Apply your Python code to compute the inverse of the Hilbert matrix $H_n$ for $n=1, \\ldots, 12$ (see https://en.wikipedia.org/wiki/Hilbert_matrix) -- you can use `scipy.linalg.hilbert`. This matrix is _very_ ill-conditioned, so computing its inverse is very hard for large $n$.\n",
    "\n",
    "Compare the inverse with the \"true\" inverse given by `scipy.linalg.invhilbert`. Output a (`plt.semilogy`) graph showing how the $\\infty$-norm of their difference progresses for $n$."
   ]
  },
  {
   "cell_type": "code",
   "execution_count": 4,
   "metadata": {
    "deletable": false,
    "nbgrader": {
     "cell_type": "code",
     "checksum": "ad85202f0d883b6defba9ace3b0791a7",
     "grade": true,
     "grade_id": "cell-2a66f34c0f8c604a",
     "locked": false,
     "points": 1,
     "schema_version": 3,
     "solution": true,
     "task": false
    }
   },
   "outputs": [
    {
     "name": "stdout",
     "output_type": "stream",
     "text": [
      "infi-norm of difference [0.0, 5.329070518200751e-15, 1.5702994460298214e-12, 1.2979626262676902e-09, 3.278316853538854e-07, 0.00047345929851871915, 0.2935427345582866, 730.4439617234748, 1641217.6508578947, 1533162062.927311, 1059231706303.5017, 629169098302521.1]\n"
     ]
    },
    {
     "data": {
      "image/png": "[encoded data removed]",
      "text/plain": [
       "<Figure size 432x288 with 1 Axes>"
      ]
     },
     "metadata": {
      "needs_background": "light"
     },
     "output_type": "display_data"
    }
   ],
   "source": [
    "# YOUR CODE HERE\n",
    "difference=[] # store infi norm of A1-A2\n",
    "x=np.linspace(1,12,12,endpoint=True) #n=1,2,...,12\n",
    "for i in range(1,13):\n",
    "    hilbert = la.hilbert(i)  \n",
    "    inv_hilbert = la.invhilbert(i) # true inverse Hilbert\n",
    "    my_hilbert=invert(hilbert)  # my inverse Hilbert\n",
    "    my_hilbert = my_hilbert.reshape((i, i)) \n",
    "    difference_hilbert=inv_hilbert-my_hilbert\n",
    "    infi_norm_diff_hilbert=la.norm(difference_hilbert,ord=np.inf) #infi-norm A1-A2\n",
    "    #difference.append(np.abs(infi_norm_estimate-infi_norm_real))\n",
    "    difference.append(infi_norm_diff_hilbert)\n",
    "print('infi-norm of difference',difference)\n",
    "plt.semilogy(x,difference,label='infinite-norm of difference ')\n",
    "plt.xlabel('n')\n",
    "plt.ylabel('infinite-norm')\n",
    "plt.legend()\n",
    "plt.show()\n"
   ]
  },
  {
   "cell_type": "markdown",
   "metadata": {
    "deletable": false,
    "editable": false,
    "nbgrader": {
     "cell_type": "markdown",
     "checksum": "00b61b86ab4ed2cb1ee322906683d0cc",
     "grade": false,
     "grade_id": "cell-bad121f5da89727d",
     "locked": true,
     "schema_version": 3,
     "solution": false,
     "task": false
    }
   },
   "source": [
    "## (d) 2 points\n",
    "It is known that the $2$-condition number $cond_2(H_n)$ of the Hilbert matrix grows like $\\mathcal O\\left(\\frac{(1+\\sqrt{2})^{4n}}{\\sqrt{n}}\\right)$. Does the $\\infty$-condition number (defined in Example 2.5) of $H_n$ grow in a similar way?\n",
    "For the matrix inverse, try both your own matrix inversion routine, and `scipy.linalg.invhilbert`. Output a (`plt.semilogy`) graph showing your results."
   ]
  },
  {
   "cell_type": "code",
   "execution_count": 5,
   "metadata": {
    "deletable": false,
    "nbgrader": {
     "cell_type": "code",
     "checksum": "ec6405bc5f0f4ec4d0348d58de70d19c",
     "grade": true,
     "grade_id": "cell-5d826880c65b8b93",
     "locked": false,
     "points": 2,
     "schema_version": 3,
     "solution": true,
     "task": false
    },
    "scrolled": true
   },
   "outputs": [
    {
     "data": {
      "image/png": "[encoded data removed]",
      "text/plain": [
       "<Figure size 432x288 with 1 Axes>"
      ]
     },
     "metadata": {
      "needs_background": "light"
     },
     "output_type": "display_data"
    }
   ],
   "source": [
    "# YOUR CODE HERE\n",
    "big_O=[]\n",
    "cond_infi_defi_list=[]\n",
    "cond_2_list=[] #Hilbert\n",
    "cond_infi_list=[]\n",
    "\n",
    "cond_2_invhilbert=[] #true inverse Hilbert\n",
    "cond_infi_invhilbert=[]\n",
    "\n",
    "cond_2_invert=[] #my inverse Hilbert\n",
    "cond_infi_invert=[]\n",
    "\n",
    "for i in range(1,13):\n",
    "    hilbert = la.hilbert(i)\n",
    "    inv_hilbert = la.invhilbert(i)\n",
    "    my_hilbert=invert(hilbert)\n",
    "    my_hilbert = my_hilbert.reshape((i, i))\n",
    "    big_O.append((1+np.sqrt(2))**(4*i) / np.sqrt(i))\n",
    "    \n",
    "    # calculate&store 2-condition and infi-condition number of Hilbert \n",
    "    cond_2_list.append(LA.cond(hilbert,p=2))\n",
    "    cond_infi_list.append(LA.cond(hilbert,p=np.inf))\n",
    "    \n",
    "    # calculate&store 2-condition and infi-condition number of INVERSE Hilbert\n",
    "    cond_2_invhilbert.append(LA.cond(inv_hilbert,p=2))\n",
    "    cond_infi_invhilbert_defi=la.norm(inv_hilbert,ord=np.inf)*la.norm(hilbert, ord=np.inf)\n",
    "    cond_infi_invhilbert.append(cond_infi_invhilbert_defi)\n",
    "    \n",
    "    #calculate&store 2-condition and infi-condition number of MY INVERSE Hilbert\n",
    "    cond_2_invert.append(LA.cond(my_hilbert,p=2))\n",
    "    cond_infi_invert.append(LA.cond(my_hilbert,p=np.inf))\n",
    "    \n",
    "    cond_infi_defi=la.norm(my_hilbert,ord=np.inf)*la.norm(invert(my_hilbert), ord=np.inf)\n",
    "    cond_infi_defi_list.append(cond_infi_defi)\n",
    "    \n",
    "plt.semilogy(x,big_O,label='big-O of 2-condition number')\n",
    "plt.semilogy(x,cond_infi_defi_list,label='infinite condition number using invert(A)')\n",
    "plt.semilogy(x,cond_infi_invhilbert,label='infinite condition number using la.invhilbert()')\n",
    "plt.xlabel('n')\n",
    "plt.ylabel('condition number')\n",
    "plt.legend()\n",
    "plt.show()\n",
    "\n",
    "# #2-condition and infi-condition number of Hilbert\n",
    "# plt.semilogy(x,cond_2_list,label='2-condition number')\n",
    "# plt.semilogy(x,cond_infi_list,label='infi-condition number ')\n",
    "# plt.xlabel('n')\n",
    "# plt.title('Hilbert')\n",
    "# plt.ylabel('condition number')\n",
    "# plt.legend()\n",
    "# plt.show()\n",
    "# #2-condition and infi-condition number of INVERSE Hilbert\n",
    "# plt.semilogy(x,cond_2_invhilbert,label='2-condition number')\n",
    "# plt.semilogy(x,cond_infi_invhilbert,label='infi-condition number')\n",
    "# plt.xlabel('n')\n",
    "# plt.ylabel('condition number')\n",
    "# plt.title('Inverse Hilbert')\n",
    "# plt.legend()\n",
    "# plt.show()\n",
    "# #2-condition and infi-condition number of MY INVERSE Hilbert\n",
    "# plt.semilogy(x,cond_2_invert,label='2-condition number')\n",
    "# plt.semilogy(x,cond_infi_invert,label='infinite-condition number')\n",
    "# plt.xlabel('n')\n",
    "# plt.ylabel('condition number')\n",
    "# plt.title('Inverse Hilbert using invert(A)')\n",
    "# plt.legend()\n",
    "# plt.show()\n",
    "\n"
   ]
  },
  {
   "cell_type": "markdown",
   "metadata": {},
   "source": [
    "The $\\infty$-condition number of true inverse Hilbert (using $la.invhilbert()$) and our inverse Hilbert (using $invert(A)$) grow similarly with $cond_2(H_n)$. These two $\\infty$-condition numbers are very close. Thus, they do not have visiable different in the figure."
   ]
  },
  {
   "cell_type": "code",
   "execution_count": null,
   "metadata": {},
   "outputs": [],
   "source": []
  }
 ],
 "metadata": {
  "kernelspec": {
   "display_name": "Python 3",
   "language": "python",
   "name": "python3"
  },
  "language_info": {
   "codemirror_mode": {
    "name": "ipython",
    "version": 3
   },
   "file_extension": ".py",
   "mimetype": "text/x-python",
   "name": "python",
   "nbconvert_exporter": "python",
   "pygments_lexer": "ipython3",
   "version": "3.7.9"
  }
 },
 "nbformat": 4,
 "nbformat_minor": 2
}
